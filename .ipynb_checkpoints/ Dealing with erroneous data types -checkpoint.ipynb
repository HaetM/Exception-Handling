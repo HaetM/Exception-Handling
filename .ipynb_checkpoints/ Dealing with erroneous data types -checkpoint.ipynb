{
 "cells": [
  {
   "cell_type": "code",
   "execution_count": 21,
   "metadata": {},
   "outputs": [
    {
     "name": "stdout",
     "output_type": "stream",
     "text": [
      "this is class work\n",
      " are you working part-time or full-times\n"
     ]
    }
   ],
   "source": [
    "print('this is class work')\n",
    "valid = False\n",
    "while not valid:\n",
    "    try:\n",
    "        work = input(\" are you working part-time or full-time\")            \n",
    "        if work == \"P\" or work == \"F\":\n",
    "            print('ok thanks for letting me know')\n",
    "        else:\n",
    "            valid = True\n",
    "    except  ValueError:\n",
    "        print(\"sorry can you please use P or F\")\n"
   ]
  },
  {
   "cell_type": "code",
   "execution_count": null,
   "metadata": {},
   "outputs": [],
   "source": [
    "print('please enter the valid options - 1 to 5 and 0 to exit')\n",
    "valid = True\n",
    "try:\n",
    "    num = (int(input(\"please enter a number beteen 1-5 or 0 to exist\")))\n",
    "    if num >==1 and num ==<5:\n",
    "        print(\"that was in the valid range\")\n",
    "        else:\n",
    "            valid = True\n",
    "        except ValueError:\n",
    "            print( \" that wsn'r in the range, please try again...\")"
   ]
  }
 ],
 "metadata": {
  "kernelspec": {
   "display_name": "Python 3",
   "language": "python",
   "name": "python3"
  },
  "language_info": {
   "codemirror_mode": {
    "name": "ipython",
    "version": 3
   },
   "file_extension": ".py",
   "mimetype": "text/x-python",
   "name": "python",
   "nbconvert_exporter": "python",
   "pygments_lexer": "ipython3",
   "version": "3.5.2"
  }
 },
 "nbformat": 4,
 "nbformat_minor": 2
}
