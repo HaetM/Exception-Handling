{
 "cells": [
  {
   "cell_type": "code",
   "execution_count": null,
   "metadata": {},
   "outputs": [
    {
     "name": "stdout",
     "output_type": "stream",
     "text": [
      " Dealing with erroneous data types\n"
     ]
    }
   ],
   "source": [
    "# only use try and ValueError when sing int \n",
    "print(' Dealing with erroneous data types')\n",
    "valid = False\n",
    "while not valid:\n",
    "        work = input(\" are you working part-time or full-time\").upper()            \n",
    "        if work == \"P\" or work == \"F\":\n",
    "            print('ok thanks for letting me know')\n",
    "            valid = True\n",
    "        else:\n",
    "            print(\"sorry can you please use P or F\")\n",
    "print('we can now carry on...')"
   ]
  },
  {
   "cell_type": "code",
   "execution_count": null,
   "metadata": {},
   "outputs": [],
   "source": [
    "#Assume you want to user to only enter the valid menu options which are 1-5 and 0 to exit\n",
    "\n",
    "print('valid options - 1 to 5 and 0 to exit')\n",
    "valid = False\n",
    "while not valid:\n",
    "    try:\n",
    "        num = (int(input('please enter a number between 1 and 5')))\n",
    "        if num >=1 and <=5:\n",
    "            print('ok thanks')            \n",
    "        else:\n",
    "            valid = True\n",
    "    except ValueError:\n",
    "            print('sorry can you please enter a valid number between 1 and 5')"
   ]
  },
  {
   "cell_type": "code",
   "execution_count": null,
   "metadata": {},
   "outputs": [],
   "source": []
  }
 ],
 "metadata": {
  "kernelspec": {
   "display_name": "Python 3",
   "language": "python",
   "name": "python3"
  },
  "language_info": {
   "codemirror_mode": {
    "name": "ipython",
    "version": 3
   },
   "file_extension": ".py",
   "mimetype": "text/x-python",
   "name": "python",
   "nbconvert_exporter": "python",
   "pygments_lexer": "ipython3",
   "version": "3.5.2"
  }
 },
 "nbformat": 4,
 "nbformat_minor": 2
}
